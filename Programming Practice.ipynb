{
 "cells": [
  {
   "cell_type": "markdown",
   "metadata": {},
   "source": [
    "# -----------------------------------------------------------------------------------------------------------"
   ]
  },
  {
   "cell_type": "code",
   "execution_count": 2,
   "metadata": {},
   "outputs": [
    {
     "name": "stdout",
     "output_type": "stream",
     "text": [
      "Enter a Binary number: 1001\n",
      "Decimal of 1001 is 9 \n"
     ]
    }
   ],
   "source": [
    "# Checkpoint\n",
    "\n",
    "def bin_to_dec(n):\n",
    "    \n",
    "    if n == 1 or n == 0:\n",
    "        return n\n",
    "    \n",
    "    l = len(str(n))\n",
    "    firstDigit = n // pow(10,l-1)\n",
    "    \n",
    "    return (pow(2,l-1) * firstDigit)+ bin_to_dec(n % pow(10,l-1))\n",
    " \n",
    "binary = int(input('Enter a Binary number: '))\n",
    "decimal = bin_to_dec(binary)\n",
    " \n",
    "print(\"Decimal of {p} is {q} \".format(p=binary, q=decimal))"
   ]
  },
  {
   "cell_type": "code",
   "execution_count": 8,
   "metadata": {},
   "outputs": [
    {
     "name": "stdout",
     "output_type": "stream",
     "text": [
      "Enter a Binary number: 1001\n",
      "Decimal of 1001 is 2 \n"
     ]
    }
   ],
   "source": [
    "# Query to be resolved\n",
    "\n",
    "# Binary to Decimal conversion using Recursion\n",
    "\n",
    "def binToDec(n):\n",
    "    \n",
    "    bin_val = n\n",
    "    \n",
    "    if (n == bin_val):\n",
    "        place=0\n",
    "        decimal=0\n",
    "    else:\n",
    "        place = place+1\n",
    "    \n",
    "    if n == 1 or n == 0:\n",
    "        return n\n",
    "\n",
    "    lsb = n % 10\n",
    "    decimal = decimal + lsb*(2**place)\n",
    "    return (decimal + binToDec(n // 10))\n",
    " \n",
    "binary = int(input('Enter a Binary number: '))\n",
    "decimal = binToDec(1001)\n",
    " \n",
    "print(\"Decimal of {p} is {q} \".format(p=binary, q=decimal))"
   ]
  },
  {
   "cell_type": "markdown",
   "metadata": {},
   "source": [
    "# --------------------------------------------------------------------------------------------------------"
   ]
  },
  {
   "cell_type": "code",
   "execution_count": null,
   "metadata": {},
   "outputs": [],
   "source": []
  }
 ],
 "metadata": {
  "kernelspec": {
   "display_name": "Python 3",
   "language": "python",
   "name": "python3"
  },
  "language_info": {
   "codemirror_mode": {
    "name": "ipython",
    "version": 3
   },
   "file_extension": ".py",
   "mimetype": "text/x-python",
   "name": "python",
   "nbconvert_exporter": "python",
   "pygments_lexer": "ipython3",
   "version": "3.7.6"
  }
 },
 "nbformat": 4,
 "nbformat_minor": 4
}
